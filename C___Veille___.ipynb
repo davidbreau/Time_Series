{
 "cells": [
  {
   "cell_type": "markdown",
   "metadata": {},
   "source": [
    "# Veille sur les modèles"
   ]
  },
  {
   "cell_type": "markdown",
   "metadata": {},
   "source": [
    "    Vous travaillez pour un fournisseur d’électricité. Votre manager vous demande pour la région des Hauts de France d’être capable de prédire à court terme (sur la semaine qui arrive) la consommation électrique. Il vous indique qu’il pourrait être intéressant d’utiliser d’autres variables exogènes comme la température.   \n",
    "\n",
    "    En utilisant le format, réalisez une veille sur les modèles de times series. Votre veille doit intégrer les modèles:  \n",
    "    - ARMA, ARIMA, SARIMA, VARIMAX  \n",
    "    - Prophet  \n",
    "    - XGBoost\n"
   ]
  },
  {
   "cell_type": "markdown",
   "metadata": {},
   "source": [
    "Google docs : "
   ]
  },
  {
   "cell_type": "markdown",
   "metadata": {},
   "source": [
    "<iframe src=\"https://docs.google.com/document/d/e/2PACX-1vQ9_6SyYCrocEhSALInNZ93q_jYxEibFFSFDnqB4SvBBT_rmZRJH8oyH9xxx5B8Q-jfJkrFgIuPzl6k/pub?embedded=true\" width=\"800\" height=\"800\"></iframe>\n"
   ]
  }
 ],
 "metadata": {
  "language_info": {
   "name": "python"
  },
  "orig_nbformat": 4
 },
 "nbformat": 4,
 "nbformat_minor": 2
}
